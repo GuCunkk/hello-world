{
 "cells": [
  {
   "cell_type": "code",
   "execution_count": 8,
   "metadata": {},
   "outputs": [
    {
     "name": "stdout",
     "output_type": "stream",
     "text": [
      "data.shape: (4754, 90)\n"
     ]
    }
   ],
   "source": [
    "#数据的预处理\n",
    "import pandas as pd\n",
    "from sklearn.linear_model import LogisticRegression\n",
    "from sklearn.tree import DecisionTreeClassifier\n",
    "from sklearn.model_selection import train_test_split\n",
    "from sklearn.preprocessing import StandardScaler\n",
    "from sklearn.metrics import f1_score\n",
    "from sklearn.svm import LinearSVC\n",
    "pd.set_option('display.max_row',1000)\n",
    "#导入数据\n",
    "filename = r'G:\\科研\\人工智能\\机器学习\\机器学习\\data.csv'\n",
    "data=pd.read_csv(filename,encoding='gbk')\n",
    "print(\"data.shape:\",data.shape) "
   ]
  },
  {
   "cell_type": "code",
   "execution_count": 9,
   "metadata": {},
   "outputs": [
    {
     "name": "stdout",
     "output_type": "stream",
     "text": [
      "缺失率： student_feature                               0.630627\n",
      "cross_consume_count_last_1_month              0.089609\n",
      "apply_credibility                             0.063946\n",
      "query_cash_count                              0.063946\n",
      "latest_six_month_apply                        0.063946\n",
      "latest_three_month_apply                      0.063946\n",
      "latest_query_time                             0.063946\n",
      "query_sum_count                               0.063946\n",
      "latest_one_month_apply                        0.063946\n",
      "query_finance_count                           0.063946\n",
      "query_org_count                               0.063946\n",
      "apply_score                                   0.063946\n",
      "latest_query_day                              0.063946\n",
      "latest_one_month_loan                         0.062474\n",
      "loans_score                                   0.062474\n",
      "loans_credibility_behavior                    0.062474\n",
      "loans_count                                   0.062474\n",
      "loans_settle_count                            0.062474\n",
      "loans_overdue_count                           0.062474\n",
      "loans_org_count_behavior                      0.062474\n",
      "consfin_org_count_behavior                    0.062474\n",
      "loans_cash_count                              0.062474\n",
      "loans_latest_day                              0.062474\n",
      "latest_three_month_loan                       0.062474\n",
      "loans_product_count                           0.062474\n",
      "consfin_max_limit                             0.062474\n",
      "latest_six_month_loan                         0.062474\n",
      "consfin_product_count                         0.062474\n",
      "consfin_org_count_current                     0.062474\n",
      "consfin_credibility                           0.062474\n",
      "consfin_credit_limit                          0.062474\n",
      "loans_avg_limit                               0.062474\n",
      "loans_max_limit                               0.062474\n",
      "consfin_avg_limit                             0.062474\n",
      "loans_org_count_current                       0.062474\n",
      "history_fail_fee                              0.062474\n",
      "loans_credit_limit                            0.062474\n",
      "loans_latest_time                             0.062474\n",
      "loans_long_time                               0.062474\n",
      "latest_one_month_fail                         0.062474\n",
      "loans_credibility_limit                       0.062474\n",
      "latest_one_month_suc                          0.062474\n",
      "history_suc_fee                               0.062474\n",
      "id_name                                       0.058056\n",
      "avg_price_top_last_12_valid_month             0.021876\n",
      "consume_mini_time_last_1_month                0.005469\n",
      "trans_fail_top_count_enum_last_12_month       0.003366\n",
      "trans_fail_top_count_enum_last_6_month        0.003366\n",
      "trans_fail_top_count_enum_last_1_month        0.003366\n",
      "railway_consume_count_last_12_month           0.002524\n",
      "jewelry_consume_count_last_6_month            0.002524\n",
      "consume_top_time_last_6_month                 0.001683\n",
      "consume_top_time_last_1_month                 0.001683\n",
      "trans_top_time_last_1_month                   0.001683\n",
      "trans_top_time_last_6_month                   0.001683\n",
      "max_consume_count_later_6_month               0.001683\n",
      "trans_days_interval_filter                    0.001683\n",
      "trans_amount_increase_rate_lately             0.000631\n",
      "rank_trad_1_month                             0.000421\n",
      "regional_mobility                             0.000421\n",
      "transd_mcc                                    0.000421\n",
      "trans_activity_day                            0.000421\n",
      "number_of_trans_from_2011                     0.000421\n",
      "first_transaction_time                        0.000421\n",
      "trans_activity_month                          0.000421\n",
      "historical_trans_day                          0.000421\n",
      "low_volume_percent                            0.000421\n",
      "avg_consume_less_12_valid_month               0.000421\n",
      "top_trans_count_last_1_month                  0.000421\n",
      "middle_volume_percent                         0.000421\n",
      "trans_day_last_12_month                       0.000421\n",
      "reg_preference_for_trad                       0.000421\n",
      "first_transaction_day                         0.000421\n",
      "trans_days_interval                           0.000421\n",
      "bank_card_no                                  0.000000\n",
      "take_amount_in_later_12_month_highest         0.000000\n",
      "custid                                        0.000000\n",
      "trade_no                                      0.000000\n",
      "status                                        0.000000\n",
      "repayment_capability                          0.000000\n",
      "is_high_user                                  0.000000\n",
      "historical_trans_amount                       0.000000\n",
      "trans_amount_3_month                          0.000000\n",
      "abs                                           0.000000\n",
      "avg_price_last_12_month                       0.000000\n",
      "max_cumulative_consume_later_1_month          0.000000\n",
      "pawns_auctions_trusts_consume_last_1_month    0.000000\n",
      "pawns_auctions_trusts_consume_last_6_month    0.000000\n",
      "source                                        0.000000\n",
      "Unnamed: 0                                    0.000000\n",
      "dtype: float64\n",
      "数值型特征的shape： (4754, 83)\n",
      "Index(['Unnamed: 0', 'custid', 'low_volume_percent', 'middle_volume_percent',\n",
      "       'take_amount_in_later_12_month_highest',\n",
      "       'trans_amount_increase_rate_lately', 'trans_activity_month',\n",
      "       'trans_activity_day', 'transd_mcc', 'trans_days_interval_filter',\n",
      "       'trans_days_interval', 'regional_mobility', 'student_feature',\n",
      "       'repayment_capability', 'is_high_user', 'number_of_trans_from_2011',\n",
      "       'first_transaction_time', 'historical_trans_amount',\n",
      "       'historical_trans_day', 'rank_trad_1_month', 'trans_amount_3_month',\n",
      "       'avg_consume_less_12_valid_month', 'abs',\n",
      "       'top_trans_count_last_1_month', 'avg_price_last_12_month',\n",
      "       'avg_price_top_last_12_valid_month', 'trans_top_time_last_1_month',\n",
      "       'trans_top_time_last_6_month', 'consume_top_time_last_1_month',\n",
      "       'consume_top_time_last_6_month', 'cross_consume_count_last_1_month',\n",
      "       'trans_fail_top_count_enum_last_1_month',\n",
      "       'trans_fail_top_count_enum_last_6_month',\n",
      "       'trans_fail_top_count_enum_last_12_month',\n",
      "       'consume_mini_time_last_1_month',\n",
      "       'max_cumulative_consume_later_1_month',\n",
      "       'max_consume_count_later_6_month',\n",
      "       'railway_consume_count_last_12_month',\n",
      "       'pawns_auctions_trusts_consume_last_1_month',\n",
      "       'pawns_auctions_trusts_consume_last_6_month',\n",
      "       'jewelry_consume_count_last_6_month', 'status', 'first_transaction_day',\n",
      "       'trans_day_last_12_month', 'apply_score', 'apply_credibility',\n",
      "       'query_org_count', 'query_finance_count', 'query_cash_count',\n",
      "       'query_sum_count', 'latest_one_month_apply', 'latest_three_month_apply',\n",
      "       'latest_six_month_apply', 'loans_score', 'loans_credibility_behavior',\n",
      "       'loans_count', 'loans_settle_count', 'loans_overdue_count',\n",
      "       'loans_org_count_behavior', 'consfin_org_count_behavior',\n",
      "       'loans_cash_count', 'latest_one_month_loan', 'latest_three_month_loan',\n",
      "       'latest_six_month_loan', 'history_suc_fee', 'history_fail_fee',\n",
      "       'latest_one_month_suc', 'latest_one_month_fail', 'loans_long_time',\n",
      "       'loans_credit_limit', 'loans_credibility_limit',\n",
      "       'loans_org_count_current', 'loans_product_count', 'loans_max_limit',\n",
      "       'loans_avg_limit', 'consfin_credit_limit', 'consfin_credibility',\n",
      "       'consfin_org_count_current', 'consfin_product_count',\n",
      "       'consfin_max_limit', 'consfin_avg_limit', 'latest_query_day',\n",
      "       'loans_latest_day'],\n",
      "      dtype='object')\n",
      "非数值型特征： Index(['trade_no', 'bank_card_no', 'reg_preference_for_trad', 'source',\n",
      "       'id_name', 'latest_query_time', 'loans_latest_time'],\n",
      "      dtype='object')\n",
      "                           trade_no bank_card_no reg_preference_for_trad  \\\n",
      "0  20180507115231274000000023057383          卡号1                    一线城市   \n",
      "1  20180507121002192000000023073000          卡号1                    一线城市   \n",
      "2  20180507125159718000000023114911          卡号1                    一线城市   \n",
      "3  20180507121358683000000388283484          卡号1                    三线城市   \n",
      "4  20180507115448545000000388205844          卡号1                    一线城市   \n",
      "\n",
      "  source id_name latest_query_time loans_latest_time  \n",
      "0     xs      蒋红        2018-04-25        2018-04-19  \n",
      "1     xs     崔向朝        2018-05-03        2018-05-05  \n",
      "2     xs     王中云        2018-05-05        2018-05-01  \n",
      "3     xs     何洋洋        2018-05-05        2018-05-03  \n",
      "4     xs      赵洋        2018-04-15        2018-01-07  \n"
     ]
    }
   ],
   "source": [
    "#数据处理\n",
    "miss_rate = data.isnull().sum() / len(data)\n",
    "print(\"缺失率：\",miss_rate.sort_values(ascending=False))\n",
    "X_num = data.select_dtypes('number').copy()\n",
    "X_num.fillna(X_num.mean(),inplace=True)\n",
    "print(\"数值型特征的shape：\",X_num.shape)\n",
    "print(X_num.columns)\n",
    "X_num.drop(['Unnamed: 0','status'],axis=1,inplace=True)\n",
    " \n",
    "X_str = data.select_dtypes(exclude='number').copy()\n",
    "X_str.fillna(0,inplace=True)\n",
    "print(\"非数值型特征：\",X_str.columns)\n",
    "print(X_str.head())\n",
    " \n",
    "X_dummy = pd.get_dummies(X_str['reg_preference_for_trad'])\n",
    "X = pd.concat([X_num,X_dummy],axis=1,sort=False)\n",
    "y = data['status']\n",
    "#划分训练集、测试集\n",
    "X_train,X_test,y_train,y_test = train_test_split(X,y,test_size=0.3,random_state=2018)"
   ]
  },
  {
   "cell_type": "code",
   "execution_count": 18,
   "metadata": {},
   "outputs": [
    {
     "name": "stdout",
     "output_type": "stream",
     "text": [
      "f1_score:\n"
     ]
    },
    {
     "name": "stderr",
     "output_type": "stream",
     "text": [
      "D:\\ac\\anaconda\\envs\\py36\\lib\\site-packages\\sklearn\\preprocessing\\data.py:645: DataConversionWarning: Data with input dtype uint8, int64, float64 were all converted to float64 by StandardScaler.\n",
      "  return self.partial_fit(X, y)\n",
      "D:\\ac\\anaconda\\envs\\py36\\lib\\site-packages\\sklearn\\base.py:464: DataConversionWarning: Data with input dtype uint8, int64, float64 were all converted to float64 by StandardScaler.\n",
      "  return self.fit(X, **fit_params).transform(X)\n",
      "D:\\ac\\anaconda\\envs\\py36\\lib\\site-packages\\ipykernel_launcher.py:4: DataConversionWarning: Data with input dtype uint8, int64, float64 were all converted to float64 by StandardScaler.\n",
      "  after removing the cwd from sys.path.\n"
     ]
    }
   ],
   "source": [
    "#归一化\n",
    "dataset= StandardScaler()\n",
    "X_train_std = dataset.fit_transform(X_train)\n",
    "X_test_std = dataset.transform(X_test)\n",
    "print(\"f1_score:\")"
   ]
  },
  {
   "cell_type": "code",
   "execution_count": 30,
   "metadata": {},
   "outputs": [],
   "source": [
    "from sklearn.metrics import accuracy_score, roc_auc_score\n",
    "def model_metrics(clf, X_train, X_test, y_train, y_test):\n",
    "    # 预测\n",
    "    y_train_pred = clf.predict(X_train)\n",
    "    y_test_pred = clf.predict(X_test)\n",
    "    \n",
    "    y_train_proba = clf.predict_proba(X_train)[:,1]\n",
    "    y_test_proba = clf.predict_proba(X_test)[:,1]\n",
    "    \n",
    "    # 准确率\n",
    "    print('[准确率]', end = ' ')\n",
    "    print('训练集：', '%.4f'%accuracy_score(y_train, y_train_pred), end = ' ')\n",
    "    print('测试集：', '%.4f'%accuracy_score(y_test, y_test_pred))\n",
    "    \n",
    "    # auc取值：用roc_auc_score或auc\n",
    "    print('[auc值]', end = ' ')\n",
    "    print('训练集：', '%.4f'%roc_auc_score(y_train, y_train_proba), end = ' ')\n",
    "    print('测试集：', '%.4f'%roc_auc_score(y_test, y_test_proba))\n"
   ]
  },
  {
   "cell_type": "code",
   "execution_count": 31,
   "metadata": {},
   "outputs": [
    {
     "name": "stdout",
     "output_type": "stream",
     "text": [
      "逻辑回归模型: 0.6499021443532617\n",
      "[准确率] 训练集： 0.7493 测试集： 0.7484\n",
      "[auc值] 训练集： 0.5000 测试集： 0.5000\n"
     ]
    }
   ],
   "source": [
    "#逻辑回归模型\n",
    "lr = LogisticRegression()\n",
    "lr.fit(X_train_std,y_train)\n",
    "test_lr_pred = lr.predict(X_test_std)\n",
    "print(\"逻辑回归模型:\",f1_score(y_test,test_lr_pred,average='macro'))\n",
    "model_metrics(lr, X_train, X_test, y_train, y_test)"
   ]
  },
  {
   "cell_type": "code",
   "execution_count": 36,
   "metadata": {},
   "outputs": [
    {
     "name": "stdout",
     "output_type": "stream",
     "text": [
      "svm模型: 0.6268382887052388\n"
     ]
    }
   ],
   "source": [
    "#svm模型\n",
    "lsvc = LinearSVC()\n",
    "lsvc.fit(X_train_std,y_train)\n",
    "test_lsvc_pred = lsvc.predict(X_test_std)\n",
    "print(\"svm模型:\",f1_score(y_test,test_lsvc_pred,average='macro'))"
   ]
  },
  {
   "cell_type": "code",
   "execution_count": 21,
   "metadata": {},
   "outputs": [
    {
     "name": "stdout",
     "output_type": "stream",
     "text": [
      "决策树模型: 0.39463087248322143\n"
     ]
    }
   ],
   "source": [
    "#决策树模型\n",
    "dt = DecisionTreeClassifier()\n",
    "dt.fit(X_train_std,y_train)\n",
    "test_dt_pred = dt.predict(X_test_std)\n",
    "print(\"决策树模型:\",f1_score(y_test,test_dt_pred))\n"
   ]
  },
  {
   "cell_type": "code",
   "execution_count": 39,
   "metadata": {},
   "outputs": [
    {
     "name": "stdout",
     "output_type": "stream",
     "text": [
      "[准确率] 训练集： 0.8548 测试集： 0.7793\n",
      "[auc值] 训练集： 0.9171 测试集： 0.7686\n"
     ]
    }
   ],
   "source": [
    "#xgboost\n",
    "from xgboost.sklearn import XGBClassifier\n",
    "import warnings\n",
    "warnings.filterwarnings(\"ignore\")\n",
    "xgb= XGBClassifier()\n",
    "xgb.fit(X_train, y_train)\n",
    "model_metrics(xgb, X_train, X_test, y_train, y_test)\n"
   ]
  },
  {
   "cell_type": "code",
   "execution_count": 43,
   "metadata": {},
   "outputs": [
    {
     "name": "stderr",
     "output_type": "stream",
     "text": [
      "[Parallel(n_jobs=-1)]: Using backend ThreadingBackend with 8 concurrent workers.\n",
      "[Parallel(n_jobs=-1)]: Done  34 tasks      | elapsed:    0.4s\n",
      "[Parallel(n_jobs=-1)]: Done 184 tasks      | elapsed:    0.5s\n",
      "[Parallel(n_jobs=-1)]: Done 250 out of 250 | elapsed:    0.6s finished\n"
     ]
    },
    {
     "data": {
      "text/plain": [
       "RandomForestClassifier(bootstrap=True, class_weight=None, criterion='gini',\n",
       "            max_depth=4, max_features='auto', max_leaf_nodes=None,\n",
       "            min_impurity_decrease=0.0, min_impurity_split=None,\n",
       "            min_samples_leaf=1, min_samples_split=2,\n",
       "            min_weight_fraction_leaf=0.0, n_estimators=250, n_jobs=-1,\n",
       "            oob_score=True, random_state=2018, verbose=1, warm_start=False)"
      ]
     },
     "execution_count": 43,
     "metadata": {},
     "output_type": "execute_result"
    }
   ],
   "source": [
    "#随机森林\n",
    "from sklearn.ensemble import RandomForestClassifier\n",
    "random_forest = RandomForestClassifier(n_estimators=250, max_depth=4, n_jobs=-1, oob_score=True, random_state=2018, verbose=1)\n",
    "std = StandardScaler()\n",
    "std.fit(X_train)\n",
    "x_train_std = std.transform(X_train)\n",
    "x_test_std = std.transform(X_test)\n",
    "random_forest.fit(x_train_std, y_train)"
   ]
  },
  {
   "cell_type": "code",
   "execution_count": null,
   "metadata": {},
   "outputs": [],
   "source": []
  },
  {
   "cell_type": "code",
   "execution_count": null,
   "metadata": {},
   "outputs": [],
   "source": []
  }
 ],
 "metadata": {
  "kernelspec": {
   "display_name": "python3.6",
   "language": "python",
   "name": "python3.6"
  },
  "language_info": {
   "codemirror_mode": {
    "name": "ipython",
    "version": 3
   },
   "file_extension": ".py",
   "mimetype": "text/x-python",
   "name": "python",
   "nbconvert_exporter": "python",
   "pygments_lexer": "ipython3",
   "version": "3.6.8"
  }
 },
 "nbformat": 4,
 "nbformat_minor": 2
}
